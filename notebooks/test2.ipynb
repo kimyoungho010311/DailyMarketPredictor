{
 "cells": [
  {
   "cell_type": "code",
   "execution_count": 8,
   "id": "5356bb7d-f89e-4763-a939-6900a7396d42",
   "metadata": {},
   "outputs": [],
   "source": [
    "import yfinance as yf\n",
    "import pandas as pd\n",
    "from datetime import datetime, timedelta\n",
    "from sklearn.preprocessing import MinMaxScaler"
   ]
  },
  {
   "cell_type": "code",
   "execution_count": 9,
   "id": "ddcfcd2d-e036-4e16-9c0f-21a9ccdcefd4",
   "metadata": {},
   "outputs": [
    {
     "name": "stderr",
     "output_type": "stream",
     "text": [
      "/var/folders/sq/2pgmkw912zj1zpn9tz6pjdmr0000gn/T/ipykernel_86636/3903686173.py:12: FutureWarning: YF.download() has changed argument auto_adjust default to True\n",
      "  data = yf.download(ticker, start=yesterday_str, end=today_str)\n",
      "[*********************100%***********************]  1 of 1 completed\n",
      "/var/folders/sq/2pgmkw912zj1zpn9tz6pjdmr0000gn/T/ipykernel_86636/3903686173.py:12: FutureWarning: YF.download() has changed argument auto_adjust default to True\n",
      "  data = yf.download(ticker, start=yesterday_str, end=today_str)\n",
      "[*********************100%***********************]  1 of 1 completed\n",
      "/var/folders/sq/2pgmkw912zj1zpn9tz6pjdmr0000gn/T/ipykernel_86636/3903686173.py:12: FutureWarning: YF.download() has changed argument auto_adjust default to True\n",
      "  data = yf.download(ticker, start=yesterday_str, end=today_str)\n",
      "[*********************100%***********************]  1 of 1 completed\n",
      "/var/folders/sq/2pgmkw912zj1zpn9tz6pjdmr0000gn/T/ipykernel_86636/3903686173.py:12: FutureWarning: YF.download() has changed argument auto_adjust default to True\n",
      "  data = yf.download(ticker, start=yesterday_str, end=today_str)\n",
      "[*********************100%***********************]  1 of 1 completed\n",
      "/var/folders/sq/2pgmkw912zj1zpn9tz6pjdmr0000gn/T/ipykernel_86636/3903686173.py:12: FutureWarning: YF.download() has changed argument auto_adjust default to True\n",
      "  data = yf.download(ticker, start=yesterday_str, end=today_str)\n",
      "[*********************100%***********************]  1 of 1 completed\n"
     ]
    }
   ],
   "source": [
    "today = datetime.today()\n",
    "yesterday = today - timedelta(days=1)\n",
    "\n",
    "today_str = today.strftime(\"%Y-%m-%d\")\n",
    "yesterday_str = yesterday.strftime(\"%Y-%m-%d\")\n",
    "\n",
    "ticker_list = ['MSFT','AAPL','AMZN','GOOGL','TSLA']\n",
    "rename_col = ['open','high','low','close','volume']\n",
    "df_list = []\n",
    "\n",
    "for ticker in ticker_list:\n",
    "    data = yf.download(ticker, start=yesterday_str, end=today_str)\n",
    "    data.columns = rename_col\n",
    "    data['ticker'] = ticker\n",
    "    df_list.append(data)\n",
    "\n",
    "merged_df = pd.concat(df_list).reset_index()"
   ]
  },
  {
   "cell_type": "code",
   "execution_count": 13,
   "id": "a51d0909-0e5f-403a-9d1d-d4f5d3896097",
   "metadata": {},
   "outputs": [
    {
     "name": "stdout",
     "output_type": "stream",
     "text": [
      "        Date      open      high       low     close    volume ticker\n",
      "0 2025-08-18  1.000000  1.000000  1.000000  1.000000  0.136733   MSFT\n",
      "1 2025-08-18  0.087341  0.087703  0.088659  0.086644  0.494464   AAPL\n",
      "2 2025-08-18  0.089254  0.083892  0.082945  0.082013  0.175091   AMZN\n",
      "3 2025-08-18  0.000000  0.000000  0.000000  0.000000  0.000000  GOOGL\n",
      "4 2025-08-18  0.419834  0.412533  0.407986  0.395160  1.000000   TSLA\n"
     ]
    }
   ],
   "source": [
    "# 스케일링할 컬럼\n",
    "cols_to_scale = [\"open\",\"high\",\"low\",\"close\",\"volume\"]\n",
    "\n",
    "# Min-Max 스케일링\n",
    "scaler = MinMaxScaler()\n",
    "merged_df[cols_to_scale] = scaler.fit_transform(merged_df[cols_to_scale])\n",
    "\n",
    "print(merged_df)"
   ]
  },
  {
   "cell_type": "code",
   "execution_count": null,
   "id": "004f1c0b-be9d-49d4-a73e-dfb5370478ec",
   "metadata": {},
   "outputs": [],
   "source": [
    "c"
   ]
  }
 ],
 "metadata": {
  "kernelspec": {
   "display_name": "Python 3 (ipykernel)",
   "language": "python",
   "name": "python3"
  },
  "language_info": {
   "codemirror_mode": {
    "name": "ipython",
    "version": 3
   },
   "file_extension": ".py",
   "mimetype": "text/x-python",
   "name": "python",
   "nbconvert_exporter": "python",
   "pygments_lexer": "ipython3",
   "version": "3.10.18"
  }
 },
 "nbformat": 4,
 "nbformat_minor": 5
}
