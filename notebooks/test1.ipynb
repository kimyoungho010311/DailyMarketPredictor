{
 "cells": [
  {
   "cell_type": "code",
   "execution_count": 49,
   "id": "7f91087e-e2ce-405e-a725-2229fbe9559b",
   "metadata": {},
   "outputs": [],
   "source": [
    "import yfinance as yf\n",
    "import pandas as pd\n",
    "\n",
    "ticker_list = ['MSFT','AAPL','AMZN','GOOGL','TSLA']\n",
    "rename_col = ['open','high','low','close','volume']\n",
    "df_list = []"
   ]
  },
  {
   "cell_type": "code",
   "execution_count": 30,
   "id": "0a0553df-7dc0-4ae9-b169-5ad9d6d4b65b",
   "metadata": {},
   "outputs": [
    {
     "name": "stderr",
     "output_type": "stream",
     "text": [
      "/var/folders/sq/2pgmkw912zj1zpn9tz6pjdmr0000gn/T/ipykernel_11282/1964832021.py:2: FutureWarning: YF.download() has changed argument auto_adjust default to True\n",
      "  apple = yf.download('AAPL', start=\"2010-01-01\", end=\"2022-01-01\")\n",
      "[*********************100%***********************]  1 of 1 completed\n",
      "/var/folders/sq/2pgmkw912zj1zpn9tz6pjdmr0000gn/T/ipykernel_11282/1964832021.py:3: FutureWarning: YF.download() has changed argument auto_adjust default to True\n",
      "  tesla = yf.download('TSLA', start=\"2010-01-01\", end=\"2022-01-01\")\n",
      "[*********************100%***********************]  1 of 1 completed\n"
     ]
    }
   ],
   "source": [
    "# Get the historical market data\n",
    "apple = yf.download('AAPL', start=\"2010-01-01\", end=\"2022-01-01\")\n",
    "tesla = yf.download('TSLA', start=\"2010-01-01\", end=\"2022-01-01\")"
   ]
  },
  {
   "cell_type": "code",
   "execution_count": 36,
   "id": "960eb0ee-86b0-4ed1-867c-e8662a1158f0",
   "metadata": {},
   "outputs": [],
   "source": [
    "apple.columns = rename_col\n",
    "tesla.columns = rename_col"
   ]
  },
  {
   "cell_type": "code",
   "execution_count": 37,
   "id": "2c6bf264-288d-4108-98f9-776d4f94a0ca",
   "metadata": {},
   "outputs": [],
   "source": [
    "apple['ticker'] = 'AAPL'"
   ]
  },
  {
   "cell_type": "code",
   "execution_count": 39,
   "id": "5894e139-efb1-4835-aa46-043ae81beafe",
   "metadata": {},
   "outputs": [],
   "source": [
    "tesla['ticker'] = 'TSLA'"
   ]
  },
  {
   "cell_type": "code",
   "execution_count": 42,
   "id": "d018a806-a574-4b37-8960-f62729cf5b4f",
   "metadata": {},
   "outputs": [],
   "source": [
    "merged_df = pd.concat([apple, tesla])"
   ]
  },
  {
   "cell_type": "code",
   "execution_count": null,
   "id": "19d38703-baff-455f-b7ed-f331962e349a",
   "metadata": {},
   "outputs": [],
   "source": []
  },
  {
   "cell_type": "code",
   "execution_count": null,
   "id": "d8d11fc6-bcdf-4053-b223-8b8891790692",
   "metadata": {},
   "outputs": [],
   "source": []
  },
  {
   "cell_type": "code",
   "execution_count": 57,
   "id": "e62a840f-ec18-4b00-9b99-f7f4c0f583da",
   "metadata": {},
   "outputs": [
    {
     "name": "stderr",
     "output_type": "stream",
     "text": [
      "/var/folders/sq/2pgmkw912zj1zpn9tz6pjdmr0000gn/T/ipykernel_11282/2186399323.py:2: FutureWarning: YF.download() has changed argument auto_adjust default to True\n",
      "  data = yf.download(ticker, start=\"2021-01-01\", end=\"2022-01-01\")\n",
      "[*********************100%***********************]  1 of 1 completed\n",
      "/var/folders/sq/2pgmkw912zj1zpn9tz6pjdmr0000gn/T/ipykernel_11282/2186399323.py:2: FutureWarning: YF.download() has changed argument auto_adjust default to True\n",
      "  data = yf.download(ticker, start=\"2021-01-01\", end=\"2022-01-01\")\n",
      "[*********************100%***********************]  1 of 1 completed\n",
      "/var/folders/sq/2pgmkw912zj1zpn9tz6pjdmr0000gn/T/ipykernel_11282/2186399323.py:2: FutureWarning: YF.download() has changed argument auto_adjust default to True\n",
      "  data = yf.download(ticker, start=\"2021-01-01\", end=\"2022-01-01\")\n",
      "[*********************100%***********************]  1 of 1 completed\n",
      "/var/folders/sq/2pgmkw912zj1zpn9tz6pjdmr0000gn/T/ipykernel_11282/2186399323.py:2: FutureWarning: YF.download() has changed argument auto_adjust default to True\n",
      "  data = yf.download(ticker, start=\"2021-01-01\", end=\"2022-01-01\")\n",
      "[*********************100%***********************]  1 of 1 completed\n",
      "/var/folders/sq/2pgmkw912zj1zpn9tz6pjdmr0000gn/T/ipykernel_11282/2186399323.py:2: FutureWarning: YF.download() has changed argument auto_adjust default to True\n",
      "  data = yf.download(ticker, start=\"2021-01-01\", end=\"2022-01-01\")\n",
      "[*********************100%***********************]  1 of 1 completed\n"
     ]
    }
   ],
   "source": [
    "for ticker in ticker_list:\n",
    "    data = yf.download(ticker, start=\"2021-01-01\", end=\"2022-01-01\")\n",
    "    data.columns = rename_col\n",
    "    data['Ticker'] = ticker\n",
    "    df_list.append(data)\n",
    "\n",
    "merged_df = pd.concat(df_list).reset_index()"
   ]
  },
  {
   "cell_type": "code",
   "execution_count": null,
   "id": "1e0bff3e-968d-432a-a6bd-f8647d5a0fe1",
   "metadata": {},
   "outputs": [],
   "source": []
  }
 ],
 "metadata": {
  "kernelspec": {
   "display_name": "Python 3 (ipykernel)",
   "language": "python",
   "name": "python3"
  },
  "language_info": {
   "codemirror_mode": {
    "name": "ipython",
    "version": 3
   },
   "file_extension": ".py",
   "mimetype": "text/x-python",
   "name": "python",
   "nbconvert_exporter": "python",
   "pygments_lexer": "ipython3",
   "version": "3.10.18"
  }
 },
 "nbformat": 4,
 "nbformat_minor": 5
}
